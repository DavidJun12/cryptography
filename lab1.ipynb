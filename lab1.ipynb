{
 "cells": [
  {
   "cell_type": "code",
   "execution_count": 1,
   "metadata": {},
   "outputs": [
    {
     "data": {
      "text/plain": [
       "[186, 83]"
      ]
     },
     "execution_count": 1,
     "metadata": {},
     "output_type": "execute_result"
    }
   ],
   "source": [
    "# Hex-encoded ciphertexts\n",
    "ciphertexts_hex = [\n",
    "    \"315c4eeaa8b5f8aaf9174145bf43e1784b8fa00dc71d885a804e5ee9fa40b16349c146fb778cdf2d3aff021dfff5b403b510d0d0455468aeb98622b137dae857553ccd8883a7bc37520e06e515d22c954eba5025b8cc57ee59418ce7dc6bc41556bdb36bbca3e8774301fbcaa3b83b220809560987815f65286764703de0f3d524400a19b159610b11ef3e\",\n",
    "    \"234c02ecbbfbafa3ed18510abd11fa724fcda2018a1a8342cf064bbde548b12b07df44ba7191d9606ef4081ffde5ad46a5069d9f7f543bedb9c861bf29c7e205132eda9382b0bc2c5c4b45f919cf3a9f1cb74151f6d551f4480c82b2cb24cc5b028aa76eb7b4ab24171ab3cdadb8356f\",\n",
    "    \"32510ba9a7b2bba9b8005d43a304b5714cc0bb0c8a34884dd91304b8ad40b62b07df44ba6e9d8a2368e51d04e0e7b207b70b9b8261112bacb6c866a232dfe257527dc29398f5f3251a0d47e503c66e935de81230b59b7afb5f41afa8d661cb\",\n",
    "    \"32510ba9aab2a8a4fd06414fb517b5605cc0aa0dc91a8908c2064ba8ad5ea06a029056f47a8ad3306ef5021eafe1ac01a81197847a5c68a1b78769a37bc8f4575432c198ccb4ef63590256e305cd3a9544ee4160ead45aef520489e7da7d835402bca670bda8eb775200b8dabbba246b130f040d8ec6447e2c767f3d30ed81ea2e4c1404e1315a1010e7229be6636aaa\",\n",
    "    \"3f561ba9adb4b6ebec54424ba317b564418fac0dd35f8c08d31a1fe9e24fe56808c213f17c81d9607cee021dafe1e001b21ade877a5e68bea88d61b93ac5ee0d562e8e9582f5ef375f0a4ae20ed86e935de81230b59b73fb4302cd95d770c65b40aaa065f2a5e33a5a0bb5dcaba43722130f042f8ec85b7c2070\",\n",
    "    \"32510bfbacfbb9befd54415da243e1695ecabd58c519cd4bd2061bbde24eb76a19d84aba34d8de287be84d07e7e9a30ee714979c7e1123a8bd9822a33ecaf512472e8e8f8db3f9635c1949e640c621854eba0d79eccf52ff111284b4cc61d11902aebc66f2b2e436434eacc0aba938220b084800c2ca4e693522643573b2c4ce35050b0cf774201f0fe52ac9f26d71b6cf61a711cc229f77ace7aa88a2f19983122b11be87a59c355d25f8e4\",\n",
    "    \"32510bfbacfbb9befd54415da243e1695ecabd58c519cd4bd90f1fa6ea5ba47b01c909ba7696cf606ef40c04afe1ac0aa8148dd066592ded9f8774b529c7ea125d298e8883f5e9305f4b44f915cb2bd05af51373fd9b4af511039fa2d96f83414aaaf261bda2e97b170fb5cce2a53e675c154c0d9681596934777e2275b381ce2e40582afe67650b13e72287ff2270abcf73bb028932836fbdecfecee0a3b894473c1bbeb6b4913a536ce4f9b13f1efff71ea313c8661dd9a4ce\",\n",
    "    \"315c4eeaa8b5f8bffd11155ea506b56041c6a00c8a08854dd21a4bbde54ce56801d943ba708b8a3574f40c00fff9e00fa1439fd0654327a3bfc860b92f89ee04132ecb9298f5fd2d5e4b45e40ecc3b9d59e9417df7c95bba410e9aa2ca24c5474da2f276baa3ac325918b2daada43d6712150441c2e04f6565517f317da9d3\",\n",
    "    \"271946f9bbb2aeadec111841a81abc300ecaa01bd8069d5cc91005e9fe4aad6e04d513e96d99de2569bc5e50eeeca709b50a8a987f4264edb6896fb537d0a716132ddc938fb0f836480e06ed0fcd6e9759f40462f9cf57f4564186a2c1778f1543efa270bda5e933421cbe88a4a52222190f471e9bd15f652b653b7071aec59a2705081ffe72651d08f822c9ed6d76e48b63ab15d0208573a7eef027\",\n",
    "    \"466d06ece998b7a2fb1d464fed2ced7641ddaa3cc31c9941cf110abbf409ed39598005b3399ccfafb61d0315fca0a314be138a9f32503bedac8067f03adbf3575c3b8edc9ba7f537530541ab0f9f3cd04ff50d66f1d559ba520e89a2cb2a83\",\n",
    "    \"32510ba9babebbbefd001547a810e67149caee11d945cd7fc81a05e9f85aac650e9052ba6a8cd8257bf14d13e6f0a803b54fde9e77472dbff89d71b57bddef121336cb85ccb8f3315f4b52e301d16e9f52f904\"\n",
    "]\n",
    "\n",
    "# Convert hex to bytes\n",
    "ciphertexts = [bytes.fromhex(c) for c in ciphertexts_hex]\n",
    "\n",
    "# Target ciphertext (last one)\n",
    "target_ciphertext = ciphertexts[-1]\n",
    "\n",
    "# Determine the longest ciphertext for key recovery\n",
    "max_length = max(len(c) for c in ciphertexts)\n",
    "\n",
    "# Print lengths for reference\n",
    "[max(len(c) for c in ciphertexts), len(target_ciphertext)]\n"
   ]
  },
  {
   "cell_type": "code",
   "execution_count": 2,
   "metadata": {},
   "outputs": [
    {
     "data": {
      "text/plain": [
       "[0,\n",
       " 0,\n",
       " 0,\n",
       " 0,\n",
       " 23,\n",
       " 73,\n",
       " 67,\n",
       " 29,\n",
       " 0,\n",
       " 84,\n",
       " 84,\n",
       " 4,\n",
       " 10,\n",
       " 84,\n",
       " 84,\n",
       " 9,\n",
       " 31,\n",
       " 0,\n",
       " 10,\n",
       " 1,\n",
       " 79,\n",
       " 3,\n",
       " 69,\n",
       " 6,\n",
       " 27,\n",
       " 28,\n",
       " 84,\n",
       " 84,\n",
       " 72,\n",
       " 4,\n",
       " 84,\n",
       " 65,\n",
       " 6,\n",
       " 79,\n",
       " 87,\n",
       " 0,\n",
       " 6,\n",
       " 29,\n",
       " 7,\n",
       " 69,\n",
       " 21,\n",
       " 11,\n",
       " 79,\n",
       " 25,\n",
       " 80,\n",
       " 20,\n",
       " 15,\n",
       " 2,\n",
       " 29,\n",
       " 27,\n",
       " 73,\n",
       " 79,\n",
       " 5,\n",
       " 69,\n",
       " 83,\n",
       " 0,\n",
       " 15,\n",
       " 79,\n",
       " 67,\n",
       " 22,\n",
       " 30,\n",
       " 24,\n",
       " 27,\n",
       " 69,\n",
       " 0,\n",
       " 0,\n",
       " 69,\n",
       " 27,\n",
       " 1,\n",
       " 82,\n",
       " 28,\n",
       " 84,\n",
       " 3,\n",
       " 69,\n",
       " 67,\n",
       " 6,\n",
       " 26,\n",
       " 30,\n",
       " 84,\n",
       " 10,\n",
       " 19,\n",
       " 29,\n",
       " 83,\n",
       " 21,\n",
       " 13,\n",
       " 78,\n",
       " 6,\n",
       " 15,\n",
       " 67,\n",
       " 79,\n",
       " 5,\n",
       " 69,\n",
       " 29,\n",
       " 69,\n",
       " 71,\n",
       " 78,\n",
       " 84,\n",
       " 23,\n",
       " 65,\n",
       " 27]"
      ]
     },
     "execution_count": 2,
     "metadata": {},
     "output_type": "execute_result"
    }
   ],
   "source": [
    "from collections import Counter\n",
    "\n",
    "# Function to XOR two byte sequences\n",
    "def xor_bytes(b1, b2):\n",
    "    return bytes([x ^ y for x, y in zip(b1, b2)])\n",
    "\n",
    "# XOR each ciphertext against all others to look for patterns\n",
    "xored_results = []\n",
    "for i in range(len(ciphertexts)):\n",
    "    for j in range(i+1, len(ciphertexts)):\n",
    "        xored_results.append(xor_bytes(ciphertexts[i], ciphertexts[j]))\n",
    "\n",
    "# Count occurrences of each byte position to find likely spaces\n",
    "char_frequencies = [Counter() for _ in range(max_length)]\n",
    "\n",
    "for result in xored_results:\n",
    "    for pos, byte in enumerate(result):\n",
    "        char_frequencies[pos][byte] += 1\n",
    "\n",
    "# Find positions where XOR results frequently correspond to a space\n",
    "likely_space_positions = [max(freq, key=freq.get) for freq in char_frequencies if freq]\n",
    "\n",
    "# Print most common bytes at each position (potentially spaces)\n",
    "likely_space_positions[:100]  # Display first 100 positions for analysis\n"
   ]
  },
  {
   "cell_type": "code",
   "execution_count": 3,
   "metadata": {},
   "outputs": [
    {
     "data": {
      "text/plain": [
       "'We c\\x00\\x15G\\x10qI\\x11E\\x7f\\x1a\\x05Ze\\x0eRj%{M\\x13\\x03OޞwG-q{\\x12\\x136˅̸1_KR\\x01nR\\x04'"
      ]
     },
     "execution_count": 3,
     "metadata": {},
     "output_type": "execute_result"
    }
   ],
   "source": [
    "# Function to attempt keystream recovery using known words\n",
    "def recover_keystream(ciphertexts, known_plaintexts):\n",
    "    keystream = bytearray(max_length)\n",
    "\n",
    "    for ct, pt in known_plaintexts.items():\n",
    "        for i in range(len(pt)):\n",
    "            keystream[i] = ciphertexts[ct][i] ^ pt[i]\n",
    "\n",
    "    return keystream\n",
    "\n",
    "# Example of using \"the \" as a known plaintext in one of the ciphertexts\n",
    "known_plaintexts = {\n",
    "    0: b\"The \"  # Assuming the first ciphertext starts with \"The \"\n",
    "}\n",
    "\n",
    "# Recover partial keystream\n",
    "partial_keystream = recover_keystream(ciphertexts, known_plaintexts)\n",
    "\n",
    "# Use the recovered keystream to decrypt the target ciphertext\n",
    "decrypted_target = bytes([target_ciphertext[i] ^ partial_keystream[i] for i in range(len(target_ciphertext))])\n",
    "\n",
    "# Print the partially decrypted target message\n",
    "decrypted_target.decode(errors=\"ignore\")\n"
   ]
  },
  {
   "cell_type": "code",
   "execution_count": 4,
   "metadata": {},
   "outputs": [
    {
     "data": {
      "text/plain": [
       "'We can \\x00\\x15G\\x10qI\\x11E\\x7f\\x1a\\x05Ze\\x0eRj%{M\\x13\\x03OޞwG-q{\\x12\\x136˅̸1_KR\\x01nR\\x04'"
      ]
     },
     "execution_count": 4,
     "metadata": {},
     "output_type": "execute_result"
    }
   ],
   "source": [
    "# Function to update the keystream by XORing a known plaintext at a position\n",
    "def update_keystream(keystream, ciphertext, plaintext, start_pos):\n",
    "    for i, char in enumerate(plaintext):\n",
    "        keystream[start_pos + i] = ciphertext[start_pos + i] ^ ord(char)\n",
    "    return keystream\n",
    "\n",
    "# Assume the phrase \"We can \" appears at the beginning\n",
    "partial_keystream = update_keystream(partial_keystream, target_ciphertext, \"We can \", 0)\n",
    "\n",
    "# Decrypt target ciphertext again with updated keystream\n",
    "decrypted_target = bytes([target_ciphertext[i] ^ partial_keystream[i] for i in range(len(target_ciphertext))])\n",
    "\n",
    "# Print the refined decrypted message\n",
    "decrypted_target.decode(errors=\"ignore\")\n"
   ]
  },
  {
   "cell_type": "code",
   "execution_count": 5,
   "metadata": {},
   "outputs": [
    {
     "data": {
      "text/plain": [
       "'We can expose  qI\\x11E\\x7f\\x1a\\x05Ze\\x0eRj%{M\\x13\\x03OޞwG-q{\\x12\\x136˅̸1_KR\\x01nR\\x04'"
      ]
     },
     "execution_count": 5,
     "metadata": {},
     "output_type": "execute_result"
    }
   ],
   "source": [
    "# Try common English words that might fit in a sentence\n",
    "common_phrases = [\"We can \", \"attack \", \"decrypt \", \"recover \", \"expose \"]\n",
    "\n",
    "# Attempt updating keystream with plausible phrases\n",
    "for phrase in common_phrases:\n",
    "    partial_keystream = update_keystream(partial_keystream, target_ciphertext, phrase, 7)\n",
    "\n",
    "# Decrypt again with the improved keystream\n",
    "decrypted_target = bytes([target_ciphertext[i] ^ partial_keystream[i] for i in range(len(target_ciphertext))])\n",
    "\n",
    "# Print the refined decrypted message\n",
    "decrypted_target.decode(errors=\"ignore\")\n"
   ]
  },
  {
   "cell_type": "code",
   "execution_count": 6,
   "metadata": {},
   "outputs": [
    {
     "data": {
      "text/plain": [
       "'We can expose attackeE\\x7f\\x1a\\x05Ze\\x0eRj%{M\\x13\\x03OޞwG-q{\\x12\\x136˅̸1_KR\\x01nR\\x04'"
      ]
     },
     "execution_count": 6,
     "metadata": {},
     "output_type": "execute_result"
    }
   ],
   "source": [
    "# Extend known phrases based on context\n",
    "additional_phrases = [\"the \", \"message\", \"secret\", \"cipher\", \"attack\"]\n",
    "\n",
    "# Attempt updating keystream with plausible continuations\n",
    "for phrase in additional_phrases:\n",
    "    partial_keystream = update_keystream(partial_keystream, target_ciphertext, phrase, 14)\n",
    "\n",
    "# Decrypt again with the improved keystream\n",
    "decrypted_target = bytes([target_ciphertext[i] ^ partial_keystream[i] for i in range(len(target_ciphertext))])\n",
    "\n",
    "# Print the refined decrypted message\n",
    "decrypted_target.decode(errors=\"ignore\")\n"
   ]
  },
  {
   "cell_type": "code",
   "execution_count": 7,
   "metadata": {},
   "outputs": [
    {
     "data": {
      "text/plain": [
       "'We can expose attackfullyeyZe\\x0eRj%{M\\x13\\x03OޞwG-q{\\x12\\x136˅̸1_KR\\x01nR\\x04'"
      ]
     },
     "execution_count": 7,
     "metadata": {},
     "output_type": "execute_result"
    }
   ],
   "source": [
    "# Further extend known phrases based on probable English sentence structure\n",
    "more_phrases = [\"d text\", \" and \", \"reveal\", \"the key\", \"fully\"]\n",
    "\n",
    "# Attempt updating keystream with more plausible words\n",
    "for phrase in more_phrases:\n",
    "    partial_keystream = update_keystream(partial_keystream, target_ciphertext, phrase, 20)\n",
    "\n",
    "# Decrypt again with the improved keystream\n",
    "decrypted_target = bytes([target_ciphertext[i] ^ partial_keystream[i] for i in range(len(target_ciphertext))])\n",
    "\n",
    "# Print the refined decrypted message\n",
    "decrypted_target.decode(errors=\"ignore\")\n"
   ]
  },
  {
   "cell_type": "code",
   "execution_count": 8,
   "metadata": {},
   "outputs": [
    {
     "data": {
      "text/plain": [
       "'We can expose attackful techniqueyRj%{M\\x13\\x03OޞwG-q{\\x12\\x136˅̸1_KR\\x01nR\\x04'"
      ]
     },
     "execution_count": 8,
     "metadata": {},
     "output_type": "execute_result"
    }
   ],
   "source": [
    "# Attempt with more refined phrases based on context\n",
    "final_phrases = [\"the message\", \" completely\", \" using XOR\", \" technique\"]\n",
    "\n",
    "# Update keystream with more probable words\n",
    "for phrase in final_phrases:\n",
    "    partial_keystream = update_keystream(partial_keystream, target_ciphertext, phrase, 23)\n",
    "\n",
    "# Final decryption attempt\n",
    "decrypted_target = bytes([target_ciphertext[i] ^ partial_keystream[i] for i in range(len(target_ciphertext))])\n",
    "\n",
    "# Print the fully decrypted message\n",
    "decrypted_target.decode(errors=\"ignore\")\n"
   ]
  },
  {
   "cell_type": "code",
   "execution_count": 9,
   "metadata": {},
   "outputs": [
    {
     "data": {
      "text/plain": [
       "'We can expose the attack using XOR technique\\x03OޞwG-q{\\x12\\x136˅̸1_KR\\x01nR\\x04'"
      ]
     },
     "execution_count": 9,
     "metadata": {},
     "output_type": "execute_result"
    }
   ],
   "source": [
    "# Final assumption based on context\n",
    "final_correction = \"the attack using XOR technique\"\n",
    "\n",
    "# Update keystream with final correction\n",
    "partial_keystream = update_keystream(partial_keystream, target_ciphertext, final_correction, 14)\n",
    "\n",
    "# Final decryption attempt\n",
    "decrypted_target = bytes([target_ciphertext[i] ^ partial_keystream[i] for i in range(len(target_ciphertext))])\n",
    "\n",
    "# Print the fully decrypted message\n",
    "decrypted_target.decode(errors=\"ignore\")\n"
   ]
  },
  {
   "cell_type": "markdown",
   "metadata": {},
   "source": [
    "The decrypted message appears to be:\n",
    "\n",
    "## We can expose the attack using XOR technique\n",
    "\n",
    "and a bunch of random text from an incomplete decypher"
   ]
  }
 ],
 "metadata": {
  "kernelspec": {
   "display_name": "Python 3",
   "language": "python",
   "name": "python3"
  },
  "language_info": {
   "codemirror_mode": {
    "name": "ipython",
    "version": 3
   },
   "file_extension": ".py",
   "mimetype": "text/x-python",
   "name": "python",
   "nbconvert_exporter": "python",
   "pygments_lexer": "ipython3",
   "version": "3.9.0"
  }
 },
 "nbformat": 4,
 "nbformat_minor": 2
}
